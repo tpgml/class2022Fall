{
  "nbformat": 4,
  "nbformat_minor": 0,
  "metadata": {
    "colab": {
      "name": "sound_processing.ipynb",
      "provenance": [],
      "include_colab_link": true
    },
    "kernelspec": {
      "name": "python3",
      "display_name": "Python 3"
    },
    "language_info": {
      "name": "python"
    }
  },
  "cells": [
    {
      "cell_type": "markdown",
      "metadata": {
        "id": "view-in-github",
        "colab_type": "text"
      },
      "source": [
        "<a href=\"https://colab.research.google.com/github/tpgml/class2022Fall/blob/main/sound_processing.ipynb\" target=\"_parent\"><img src=\"https://colab.research.google.com/assets/colab-badge.svg\" alt=\"Open In Colab\"/></a>"
      ]
    },
    {
      "cell_type": "markdown",
      "source": [
        "# Digital Signal Processing\n",
        "> sampling rate(Hz), frequency(Hz), phasor"
      ],
      "metadata": {
        "id": "NhOLUyQcc47r"
      }
    },
    {
      "cell_type": "code",
      "metadata": {
        "id": "2WAs2J9dWcUv"
      },
      "source": [
        "import numpy as np\n",
        "import matplotlib.pyplot as plt\n",
        "import IPython.display as ipd"
      ],
      "execution_count": null,
      "outputs": []
    },
    {
      "cell_type": "markdown",
      "source": [
        "numpy는 숫자를 처리해주는 좋은 library,\n",
        "import matplotlib "
      ],
      "metadata": {
        "id": "1O9ZchBd4LEy"
      }
    },
    {
      "cell_type": "markdown",
      "metadata": {
        "id": "d3TfZBr7_pd7"
      },
      "source": [
        "### Phasor (sine)"
      ]
    },
    {
      "cell_type": "markdown",
      "source": [
        "Phasor= 사인곡선/ 사인 function generator\n",
        "\n",
        "\n",
        "> Generator: 내가 원하는 ~를 지정해주면 원하는 내가 원하는 사인곡선을 만들어 주는 것(함수)\n",
        "\n",
        "사인곡선을 정의하는 세가지 특징\n",
        " 1)frequency 2)amplitude 3)faze -> 1) 2) 3)을 숫자로 적으면 그에 해당하는 것을 만들어주는 것 \n",
        "변수 설정=1초에 숫자가 몇개 들어갈 것인지 변수 정해줌\n",
        "\n",
        "\n",
        "\n",
        "\n"
      ],
      "metadata": {
        "id": "EWyET8fp4avt"
      }
    },
    {
      "cell_type": "code",
      "metadata": {
        "id": "PiiWF43_WcU2"
      },
      "source": [
        "# parameter setting\n",
        "amp = 1          # range [0.0, 1.0]\n",
        "sr = 10000       # sampling rate, Hz\n",
        "dur = 0.5        # in seconds\n",
        "freq = 200.0     # sine frequency, Hz\n",
        "phase = 0  # phase, radian"
      ],
      "execution_count": null,
      "outputs": []
    },
    {
      "cell_type": "markdown",
      "source": [
        "parameter setting이라는 것을 함\n",
        "\n",
        "*   sampling rate 10000 , amplitude 1, duration 0.5초, frequncy 200번 태극무늬 왔다 갔다, faze 0도부터 시작(늦게나 빨리 시작하지 말고)\n",
        "\n",
        "여러가지 방법이 있지만 digitaly sign wave를 생산할 때 이 순서를 지켜주는 것이 가장 빠름\n",
        "\n",
        "\n"
      ],
      "metadata": {
        "id": "XbLD-rao54Ff"
      }
    },
    {
      "cell_type": "code",
      "metadata": {
        "id": "eog54PdaWcU2"
      },
      "source": [
        "# generate sample ticks\n",
        "nSamp = sr * dur\n",
        "samples = np.arange(1, nSamp+1)"
      ],
      "execution_count": null,
      "outputs": []
    },
    {
      "cell_type": "markdown",
      "source": [
        "\n",
        "1.   sample의 개수만큼의 숫자를 정수로 만듦, sampling rate 10000개인데 duration이 0.5니까 5000까지의 정수를 만들면 됨 <1 1~5000까지 샘플 만듦>\n",
        "- sampling rate X duration= 총 몇개의 샘플을 만들 것인지 구할 수 있음\n",
        "- 1초 동안에 쓸 sample의 값이 총 만개, 0.5초 만들거면 곱하면 됨\n",
        "- 1부터 5000까지의 숫자 만들기-> 어떻게 만드는지[np.arrange]\n",
        "\n"
      ],
      "metadata": {
        "id": "QH7lbSyJ-HZu"
      }
    },
    {
      "cell_type": "code",
      "metadata": {
        "id": "qAc8Esm5OlaR"
      },
      "source": [
        "# convert sample to time (sec)\n",
        "t = samples/sr"
      ],
      "execution_count": null,
      "outputs": []
    },
    {
      "cell_type": "markdown",
      "source": [
        "sign wave를 만들기 전에 시간정보를 만들어줘야 함, sign wave에 시간 정보가 없으면 1초 동안인지 알 수 없음, 시간 정보를 먼저 만드는 것이 중요 !\n",
        "<sample rate 나눠져서 만분의 일에서 0.5초까지 time을 만들어 줌>\n",
        "\n",
        "*   총 5000개의 숫자를 쓰는데 각각의 숫자마다 시간을 붙여줌\n",
        "*   1부터 5000까지의 숫자 나누기 sampligling rate = 시간 t\n",
        "*   ex)10000/1, 10000/2, 1000/3\n",
        "\n",
        "\n",
        "> 들여쓴 블록\n",
        "\n",
        "\n",
        "\n",
        "\n",
        "- 마이너스 0.4=10의 4승분의 1\n",
        "- 10의 마이너스 4승=만분의 1초\n",
        "- 5 곱하기 10의 마이너스 1승= 10분의 1"
      ],
      "metadata": {
        "id": "ttCKxYZN9BvY"
      }
    },
    {
      "cell_type": "markdown",
      "source": [],
      "metadata": {
        "id": "_q2f5vk38-KE"
      }
    },
    {
      "cell_type": "code",
      "metadata": {
        "id": "RSv5Po5sWcU3"
      },
      "source": [
        "# convert time to angle (radian)\n",
        "theta0 = t * 2*np.pi * freq"
      ],
      "execution_count": null,
      "outputs": []
    },
    {
      "cell_type": "markdown",
      "source": [
        "time X 2파이(3.14) X frequency(200)\n",
        "\n",
        "time은 1이라고 생각, 곱하기 2파이면 한바퀴 도는 것, 여기에 곱하기 frequency 200를 하면 200번 도는 것\n",
        "- 원리: t가 0.5면 그만큼 줄어들고, 이걸 계산하면 각도값(radian)을 알 수 있음\n",
        "-이걸 계산하고 나면 5000개의 각도를 알 수 있음\n",
        "-이걸 하는 이유는 sine의 입력이 radian이기 때문에 sign은 time 이나 degree(360)를 받지 않음\n",
        "-radian값 5000개를 만들어 줌, 시간도 5000개, radian 값도 이에 맞게 5000"
      ],
      "metadata": {
        "id": "IdbmtXHLAYZk"
      }
    },
    {
      "cell_type": "code",
      "metadata": {
        "id": "cesUeSr3OybQ"
      },
      "source": [
        "# shift angle by phase\n",
        "theta = theta0 + phase"
      ],
      "execution_count": null,
      "outputs": []
    },
    {
      "cell_type": "markdown",
      "source": [
        "phase는 조금 이동하는 것, phase 이동은 0으로 설정 0->0"
      ],
      "metadata": {
        "id": "tyFZIxv2BkJB"
      }
    },
    {
      "cell_type": "code",
      "metadata": {
        "id": "89hyLs9mWcU3"
      },
      "source": [
        "# generate signal by sin-phasor\n",
        "s = amp * np.sin(theta)"
      ],
      "execution_count": null,
      "outputs": []
    },
    {
      "cell_type": "markdown",
      "source": [
        "sin funtion의 입력값으로 theta가 들어가 있음 -> 사인곡선 그렸을 때 y축에 해당하는 value 값"
      ],
      "metadata": {
        "id": "bhoc-sYaBtyg"
      }
    },
    {
      "cell_type": "code",
      "metadata": {
        "id": "VRlMTkzlPMDb"
      },
      "source": [
        "# plot the entire signal\n",
        "plt.plot(theta, s, ':')\n",
        "plt.xlabel('angle (radian)')\n",
        "plt.ylabel('real')"
      ],
      "execution_count": null,
      "outputs": []
    },
    {
      "cell_type": "markdown",
      "source": [
        "X축은 radian 값, 사인의 입력값=radian 값이어서\n",
        "\n",
        "\n",
        "*   이 각도값은 시간으로부터 알아낸 것\n",
        "- 시간도 붙이고 각도값도 붙이고 \n",
        "\n",
        "\n",
        "> 문제: time의 개수 5000개, theta의 값 500개, signal S의 값 5000개\n",
        "\n",
        "- 사인에 오천개의 입력이 들어갔으니 오천개의 아웃풋이 나옴 \n",
        "\n",
        "- plot, plot하면 입력이 들어감, \n",
        "- 첫번째 argument가 X축값 500개 들어감감 , 두번째 argument가 y에 해당하는 사인의 출력값 5000개 \n",
        "\n",
        "\n",
        "\n",
        "> angle은 radian 값\n",
        "<확인하는 법>\n",
        "- radian 2파이가 6.3정도 됨\n",
        "- 200바퀴 가기로 했는데 0.5까지만 있어서 100바퀴감\n",
        "-100바퀴를 돌았는데 한바퀴가 6.3정도 되니까 6백얼마나옴옴\n",
        "\n",
        "\n",
        "총 5000개의 리스트 중에서 앞에있는 100개만 보고 싶을 때는 range하면 0~99\n",
        "파이썬에서는 0이 1번째 , s(0,100)\n",
        "\n",
        "\n",
        "\n"
      ],
      "metadata": {
        "id": "arLjZrtRCIRB"
      }
    },
    {
      "cell_type": "markdown",
      "source": [],
      "metadata": {
        "id": "LkgX5QNUEm6z"
      }
    },
    {
      "cell_type": "markdown",
      "source": [],
      "metadata": {
        "id": "xHH9ftVIB8Ev"
      }
    },
    {
      "cell_type": "code",
      "metadata": {
        "id": "3ADA5DXBWcU3"
      },
      "source": [
        "# plot a certain portion of signals\n",
        "sampleRng = np.arange(0,100)\n",
        "plt.plot(t[sampleRng], s[sampleRng], ':')\n",
        "plt.xlabel('time (s)')\n",
        "plt.ylabel('real')"
      ],
      "execution_count": null,
      "outputs": []
    },
    {
      "cell_type": "markdown",
      "source": [
        "총 5000개의 리스트 중에서 앞에있는 100개만 보고 싶을 때는 range하면 0~99\n",
        "파이썬에서는 0이 1번째 , s(0,100)\n",
        "- s는 y값들\n",
        "- sampling rate 맞춰서 play해주면 됨 "
      ],
      "metadata": {
        "id": "N-4IFKWaEqIb"
      }
    },
    {
      "cell_type": "code",
      "metadata": {
        "id": "hVYGTtZ6krh-"
      },
      "source": [
        "ipd.Audio(s, rate=sr)"
      ],
      "execution_count": null,
      "outputs": []
    },
    {
      "cell_type": "code",
      "metadata": {
        "id": "E2RzJdMYepVH"
      },
      "source": [
        "def phasor_sine(amp, sr, dur, freq, phase):\n",
        "  t = np.arange(1, sr * dur+1)/sr\n",
        "  theta = t * 2*np.pi * freq + phase\n",
        "  s = amp * np.sin(theta)\n",
        "  return s, t, theta"
      ],
      "execution_count": null,
      "outputs": []
    },
    {
      "cell_type": "code",
      "metadata": {
        "id": "KBF1AzEihCvt"
      },
      "source": [
        "amp = 1; sr = 10000; dur = 1; freq = 110; phase = 0\n",
        "s, t, theta = phasor_sine(amp, sr, dur, freq, phase)\n",
        "ipd.Audio(s, rate=sr)"
      ],
      "execution_count": null,
      "outputs": []
    },
    {
      "cell_type": "markdown",
      "metadata": {
        "id": "UbvPura88cTP"
      },
      "source": [
        "### Phasor (complex)"
      ]
    },
    {
      "cell_type": "code",
      "metadata": {
        "id": "HE2s1cUu8cTQ"
      },
      "source": [
        "# parameter setting\n",
        "amp = 1          # range [0.0, 1.0]\n",
        "sr = 10000       # sampling rate, Hz\n",
        "dur = 0.5        # in seconds\n",
        "freq = 100.0     # sine frequency, Hz\n",
        "phase = 0  # phase, radian"
      ],
      "execution_count": null,
      "outputs": []
    },
    {
      "cell_type": "code",
      "metadata": {
        "id": "6EShFMfZ8cTS"
      },
      "source": [
        "# generate sample ticks\n",
        "nSamp = sr * dur\n",
        "samples = np.arange(1, nSamp+1)"
      ],
      "execution_count": null,
      "outputs": []
    },
    {
      "cell_type": "code",
      "metadata": {
        "id": "Qdfr7oov8cTT"
      },
      "source": [
        "# convert samples to time\n",
        "t = samples/sr"
      ],
      "execution_count": null,
      "outputs": []
    },
    {
      "cell_type": "code",
      "metadata": {
        "id": "4ZW9EVdm8cTT"
      },
      "source": [
        "# convert time to angle in radian\n",
        "theta0 = t * 2*np.pi * freq"
      ],
      "execution_count": null,
      "outputs": []
    },
    {
      "cell_type": "code",
      "metadata": {
        "id": "VerbCAtu8cTT"
      },
      "source": [
        "# shift angle by phase\n",
        "theta = theta0 + phase"
      ],
      "execution_count": null,
      "outputs": []
    },
    {
      "cell_type": "code",
      "metadata": {
        "id": "2i5SwVUN8cTU"
      },
      "source": [
        "# generate signal by complex-phasor\n",
        "c = amp * np.exp(theta*1j)"
      ],
      "execution_count": null,
      "outputs": []
    },
    {
      "cell_type": "code",
      "metadata": {
        "id": "3ULGOec-8cTU"
      },
      "source": [
        "# plot the entire signal\n",
        "import plotly.graph_objects as go\n",
        "x, y, z = t, c.real, c.imag\n",
        "fig = go.Figure(data=[go.Scatter3d(x=x, y=y, z=z,\n",
        "                                   mode='markers',\n",
        "                                   marker=dict(size=3))])\n",
        "fig.update_layout(scene = dict(\n",
        "                    xaxis_title='time (sec)',\n",
        "                    yaxis_title='real',\n",
        "                    zaxis_title='imag'))\n",
        "fig.show()"
      ],
      "execution_count": null,
      "outputs": []
    },
    {
      "cell_type": "code",
      "metadata": {
        "id": "O6AdKbO18cTV"
      },
      "source": [
        "# plot a certain portion of signals\n",
        "import plotly.graph_objects as go\n",
        "sampleRng = np.arange(0,100)\n",
        "x, y, z = t[sampleRng], c.real[sampleRng], c.imag[sampleRng]\n",
        "fig = go.Figure(data=[go.Scatter3d(x=x, y=y, z=z,\n",
        "                                   mode='markers',\n",
        "                                   marker=dict(size=3))])\n",
        "fig.update_layout(scene = dict(\n",
        "                    xaxis_title='time (sec)',\n",
        "                    yaxis_title='real',\n",
        "                    zaxis_title='imag'))\n",
        "fig.show()"
      ],
      "execution_count": null,
      "outputs": []
    },
    {
      "cell_type": "code",
      "metadata": {
        "id": "F9gD4_DY8cTV"
      },
      "source": [
        "ipd.Audio(c, rate=sr)"
      ],
      "execution_count": null,
      "outputs": []
    },
    {
      "cell_type": "code",
      "metadata": {
        "id": "VtBE8NGz8cTV"
      },
      "source": [
        "def phasor_complex(amp, sr, dur, freq, phase):\n",
        "  t = np.arange(1, sr * dur+1)/sr\n",
        "  theta = t * 2*np.pi * freq + phase\n",
        "  c = amp * np.exp(theta*1j)\n",
        "  return c, t, theta"
      ],
      "execution_count": null,
      "outputs": []
    },
    {
      "cell_type": "code",
      "metadata": {
        "id": "hR8gNlF88cTW"
      },
      "source": [
        "amp = 1; sr = 10000; dur = 1; freq = 440; phase = 0\n",
        "c, t, theta = phasor_complex(amp, sr, dur, freq, phase)\n",
        "ipd.Audio(c.real, rate=sr)"
      ],
      "execution_count": null,
      "outputs": []
    }
  ]
}